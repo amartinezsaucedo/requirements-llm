{
 "cells": [
  {
   "cell_type": "code",
   "execution_count": null,
   "outputs": [],
   "source": [
    "GROQ_API_KEY=\"\"\n",
    "HF_TOKEN = \"\"\n",
    "REQUIREMENTS_FOLDER = \"projects/Aloha/requirements.txt\"\n",
    "NEO4J_USERNAME = \"neo4j\"\n",
    "NEO4J_PASSWORD = \"\"\n",
    "NEO4J_URL = \"bolt://localhost:7687\"\n",
    "KG_FOLDER = \"kg/aloha\"\n",
    "INDEX_ID = \"4fb4a4b6-12e0-4fa1-8249-6d096d6f3cd8\"\n",
    "READ = True\n",
    "USE_BACKEND = True"
   ],
   "metadata": {
    "collapsed": false,
    "pycharm": {
     "name": "#%%\n"
    }
   }
  },
  {
   "cell_type": "code",
   "execution_count": null,
   "outputs": [],
   "source": [
    "import nest_asyncio\n",
    "\n",
    "nest_asyncio.apply()"
   ],
   "metadata": {
    "collapsed": false,
    "pycharm": {
     "name": "#%%\n"
    }
   }
  },
  {
   "cell_type": "code",
   "execution_count": null,
   "outputs": [],
   "source": [
    "from llama_index.core.graph_stores import SimpleGraphStore\n",
    "from llama_index.graph_stores.neo4j import Neo4jGraphStore\n",
    "from llama_index.core import StorageContext\n",
    "\n",
    "if USE_BACKEND:\n",
    "    graph_store = Neo4jGraphStore(\n",
    "        username=NEO4J_USERNAME,\n",
    "        password=NEO4J_PASSWORD,\n",
    "        url=NEO4J_URL,\n",
    "    )\n",
    "else:\n",
    "    graph_store = SimpleGraphStore()\n",
    "\n",
    "storage_context = StorageContext.from_defaults(graph_store=graph_store, persist_dir=KG_FOLDER if READ else None)"
   ],
   "metadata": {
    "collapsed": false,
    "pycharm": {
     "name": "#%%\n"
    }
   }
  },
  {
   "cell_type": "markdown",
   "source": [
    "# Preprocess requirements file"
   ],
   "metadata": {
    "collapsed": false,
    "pycharm": {
     "name": "#%% md\n"
    }
   }
  },
  {
   "cell_type": "code",
   "execution_count": null,
   "outputs": [],
   "source": [
    "from llama_index.core import Document\n",
    "from llama_index.core.node_parser import SentenceSplitter\n",
    "\n",
    "with open(REQUIREMENTS_FOLDER, 'r') as f:\n",
    "    requirements = f.read()\n",
    "\n",
    "#documents = [Document(text=requirements)]\n",
    "\n",
    "#\"\"\"\n",
    "splitter = SentenceSplitter.from_defaults(chunk_size=64, chunk_overlap=10, paragraph_separator=\"/n\")\n",
    "nodes = splitter.get_nodes_from_documents([Document(text=requirements)])\n",
    "\n",
    "for node in nodes:\n",
    "    print(node.get_content())\n",
    "    print(\"---\")\n",
    "\n",
    "documents = [Document(text=node.get_content()) for node in nodes]\n",
    "#\"\"\""
   ],
   "metadata": {
    "collapsed": false,
    "pycharm": {
     "name": "#%%\n"
    }
   }
  },
  {
   "cell_type": "code",
   "execution_count": null,
   "outputs": [],
   "source": [
    "from llama_index.llms.groq import Groq\n",
    "from llama_index.embeddings.huggingface import HuggingFaceEmbedding\n",
    "from llama_index.core import Settings\n",
    "\n",
    "llm = Groq(model=\"llama3-70b-8192\", api_key=GROQ_API_KEY, base_url=\"https://api.groq.com/openai/v1\")\n",
    "Settings.llm = llm\n",
    "Settings.embed_model = HuggingFaceEmbedding(\n",
    "    model_name=\"BAAI/bge-large-en-v1.5\"\n",
    ")"
   ],
   "metadata": {
    "collapsed": false,
    "pycharm": {
     "name": "#%%\n"
    }
   }
  },
  {
   "cell_type": "code",
   "execution_count": null,
   "outputs": [],
   "source": [
    "from llama_index.core import PromptTemplate\n",
    "\n",
    "DEFAULT_KG_TRIPLET_EXTRACT_TMPL = PromptTemplate(\"\"\"\n",
    "    Extract knowledge triplets from the text below. Each triplet should be in the format:\n",
    "    (Entity, Relationship, Entity).\n",
    "\n",
    "    Guidelines:\n",
    "    - Entities or actors should be meaningful system concepts. An actor might be a person, a company or organization, a computer program, or a computer system—hardware, software, or both (e.g., \"User\", \"Account\", \"Profile\", \"Order\").\n",
    "    - Relationships should be **verbs or actions** connecting entities (e.g., \"logs into\", \"creates\", \"modifies\"). Relationships or interactions between external actors and the system under consideration occur to accomplish a goal.\n",
    "    - Ensure extracted entities are distinct and avoid duplicates.\n",
    "\n",
    "    Example:\n",
    "    Text: \"User logs into the system.\"\n",
    "    Triplet: (User, logs into, System)\n",
    "\n",
    "    Now extract up to {max_knowledge_triplets} from the following text:\n",
    "    {text}\n",
    "    \"\"\"\n",
    ")"
   ],
   "metadata": {
    "collapsed": false,
    "pycharm": {
     "name": "#%%\n"
    }
   }
  },
  {
   "cell_type": "markdown",
   "source": [
    "# Create KG"
   ],
   "metadata": {
    "collapsed": false,
    "pycharm": {
     "name": "#%% md\n"
    }
   }
  },
  {
   "cell_type": "code",
   "execution_count": null,
   "outputs": [],
   "source": [
    "from llama_index.core.indices.loading import load_index_from_storage\n",
    "from llama_index.core import KnowledgeGraphIndex\n",
    "\n",
    "if READ:\n",
    "    index = load_index_from_storage(storage_context=storage_context, index_id=INDEX_ID)\n",
    "else:\n",
    "    if USE_BACKEND:\n",
    "        graph_store.query(\"MATCH (n) DETACH DELETE n\")\n",
    "\n",
    "    index = KnowledgeGraphIndex.from_documents(\n",
    "        documents,\n",
    "        storage_context=storage_context,\n",
    "        max_triplets_per_chunk=10,\n",
    "        kg_triplet_extract_template=DEFAULT_KG_TRIPLET_EXTRACT_TMPL,\n",
    "        include_embeddings=True\n",
    "    )\n",
    "    index.storage_context.persist(KG_FOLDER)"
   ],
   "metadata": {
    "collapsed": false,
    "pycharm": {
     "name": "#%%\n"
    }
   }
  },
  {
   "cell_type": "markdown",
   "source": [
    "# Remove duplicated nodes"
   ],
   "metadata": {
    "collapsed": false,
    "pycharm": {
     "name": "#%% md\n"
    }
   }
  },
  {
   "cell_type": "code",
   "execution_count": null,
   "outputs": [],
   "source": [
    "import ast\n",
    "from sklearn.metrics.pairwise import cosine_similarity\n",
    "import numpy as np\n",
    "\n",
    "\n",
    "nodes = list(index._index_struct.table.keys())\n",
    "edges = [ast.literal_eval(edge) for edge in list(index._index_struct.embedding_dict.keys())]\n",
    "node_embeddings = {node: Settings.embed_model.get_text_embedding(node) for node in nodes}\n",
    "node_names = list(node_embeddings.keys())\n",
    "embedding_vectors = np.array(list(node_embeddings.values()))\n",
    "\n",
    "similarity_matrix = cosine_similarity(embedding_vectors)\n",
    "\n",
    "threshold = 0.85\n",
    "to_remove = set()\n",
    "\n",
    "for i in range(len(node_names)):\n",
    "    for j in range(i + 1, len(node_names)):\n",
    "        if similarity_matrix[i, j] > threshold:\n",
    "            to_remove.add(node_names[j])\n",
    "\n",
    "deduplicated_nodes = [node for node in node_names if node not in to_remove]\n",
    "remaining_nodes = deduplicated_nodes\n",
    "remaining_embeddings = np.array([node_embeddings[node] for node in remaining_nodes])\n",
    "node_mapping = {}\n",
    "\n",
    "for node in nodes:\n",
    "    if node not in remaining_nodes:\n",
    "        emb = np.array(node_embeddings[node]).reshape(1, -1)\n",
    "        similarities = cosine_similarity(emb, remaining_embeddings)[0]\n",
    "        closest_idx = np.argmax(similarities)\n",
    "        node_mapping[node] = remaining_nodes[closest_idx]\n",
    "\n",
    "\n",
    "updated_edges = [\n",
    "    (node_mapping.get(h, h), r, node_mapping.get(t, t))\n",
    "    for h, r, t in edges\n",
    "]\n",
    "\n",
    "text_nodes = index.docstore.get_nodes(list(index.ref_doc_info.values())[0].node_ids)"
   ],
   "metadata": {
    "collapsed": false,
    "pycharm": {
     "name": "#%%\n"
    }
   }
  },
  {
   "cell_type": "code",
   "execution_count": null,
   "outputs": [],
   "source": [
    "import networkx as nx\n",
    "import gravis as gv\n",
    "\n",
    "\n",
    "G = nx.DiGraph()\n",
    "\n",
    "for head, relation, tail in updated_edges:\n",
    "    G.add_edge(head, tail, label=relation)\n",
    "\n",
    "gv.d3(G, use_node_size_normalization=True, node_size_normalization_max=30,\n",
    "      use_edge_size_normalization=True, edge_size_data_source='weight', edge_curvature=0.3)"
   ],
   "metadata": {
    "collapsed": false,
    "pycharm": {
     "name": "#%%\n"
    }
   }
  },
  {
   "cell_type": "markdown",
   "source": [
    "# Rebuild index"
   ],
   "metadata": {
    "collapsed": false,
    "pycharm": {
     "name": "#%% md\n"
    }
   }
  },
  {
   "cell_type": "code",
   "execution_count": null,
   "outputs": [],
   "source": [
    "deduplicated_index = KnowledgeGraphIndex(\n",
    "    [],\n",
    ")\n",
    "\n",
    "triplet_node_mapping = {}\n",
    "\n",
    "for entity_a, relationship, entity_b in updated_edges:\n",
    "    nodes_a = set(index._index_struct.search_node_by_keyword(entity_a))\n",
    "    nodes_b = set(index._index_struct.search_node_by_keyword(entity_b))\n",
    "    nodes = nodes_a & nodes_b\n",
    "    deduplicated_index.upsert_triplet((entity_a, relationship, entity_b), True)\n",
    "    for node_id in nodes:\n",
    "        node = storage_context.docstore.docs.get(node_id)\n",
    "        deduplicated_index.add_node([entity_a, entity_b], node)\n"
   ],
   "metadata": {
    "collapsed": false,
    "pycharm": {
     "name": "#%%\n"
    }
   }
  },
  {
   "cell_type": "markdown",
   "source": [
    "# Get use cases"
   ],
   "metadata": {
    "collapsed": false,
    "pycharm": {
     "name": "#%% md\n"
    }
   }
  },
  {
   "cell_type": "code",
   "execution_count": null,
   "outputs": [],
   "source": [
    "query_engine = deduplicated_index.as_query_engine(\n",
    "    include_text=True,\n",
    "    response_mode =\"tree_summarize\",\n",
    "    embedding_mode=\"hybrid\",\n",
    ")"
   ],
   "metadata": {
    "collapsed": false,
    "pycharm": {
     "name": "#%%\n"
    }
   }
  },
  {
   "cell_type": "code",
   "execution_count": null,
   "outputs": [],
   "source": [
    "from IPython.display import Markdown, display\n",
    "\n",
    "def query(question):\n",
    "    response = query_engine.query(question).response\n",
    "    display(Markdown(f\"<b>{response}</b>\"))"
   ],
   "metadata": {
    "collapsed": false,
    "pycharm": {
     "name": "#%%\n"
    }
   }
  },
  {
   "cell_type": "code",
   "execution_count": null,
   "outputs": [],
   "source": [
    "query(\"List all use cases as possible. A use case is a list of actor and interactions.\")"
   ],
   "metadata": {
    "collapsed": false,
    "pycharm": {
     "name": "#%%\n"
    }
   }
  },
  {
   "cell_type": "code",
   "execution_count": null,
   "outputs": [],
   "source": [
    "responsibilities = [x.lower() for x in [ \"Chats with Online friends\", \"Invites Friend to join aloha\", \"Gets Friend suggestions\", \"Unfriends Friend\", \"Searches Friends\", \"Searches Friends on aloha\", \"Resets Password\", \"Clicks Unlock link\", \"Clicks Verification link\", \"Retrieves Chitchat history\", \"Stores Chitchat on exit\", \"Sends Message to Intended user\", \"Receives Chitchat from User in friend list\", \"Initiates Chitchat with User in friend list\", \"Logs in to edit account details\", \"Logs in to add account details\", \"Logs in to add personal details\", \"Logs in to add educational details\", \"Has Verified account to add personal details\", \"Has Verified account to add educational details\", \"Has Option to Accept or ignore friend request\", \"Makes Personal information public or private\", \"Makes Account details public or private\", \"Must be 18 years old or more\", \"Has Options to Change personal settings\", \"Has Options to Search people\", \"Has Options to Logout\", \"Dislikes Scribble\", \"Comments on Scribble\", \"Erases Scribble\", \"Deletes Comment\", \"Deletes Account\", \"Retrieves Chitchat\", \"Stores Chitchat\", \"Receives Chitchat\", \"Sends Text files\", \"Sends Message\", \"Deletes Scribble\", \"Sees Count of liked scribble\", \"Sees Count of disliked scribble\", \"Sees Delete link\", \"Ignores Friend request\", \"Accepts Friend request\", \"Makes Personal information public\", \"Makes Personal information private\", \"Makes Account details public\", \"Makes Account details private\", \"Uploads Profile picture\", \"Edits Account details\", \"Adds Account details\", \"Adds Personal details\", \"Adds Educational details\", \"Logs in with Email-id and password\", \"Creates Account\", \"Create Account\", \"Login\", \"Initiate Chitchat\", \"View Friends\", \"Send Friend Request\", \"Accept Friend Request\", \"Ignore Friend Request\", \"Delete Friend Request\", \"Upload Profile Picture\", \"Edit Account Details\", \"Add Account Details\", \"Add Personal Details\", \"Add Educational Details\", \"Make Personal Information Public\", \"Make Personal Information Private\", \"Make Account Details Public\", \"Make Account Details Private\", \"Like Scribble\", \"Dislike Scribble\", \"Share Scribble\", \"View Online Friends\", \"Receive Friend Request\", \"Receive Chitchat\", \"Receive Verification Link\", \"Receive Unlock Link\", \"Receive Captcha\" ]]\n",
    "print(f\"Extracted responsibilities: {len(responsibilities)}\")"
   ],
   "metadata": {
    "collapsed": false,
    "pycharm": {
     "name": "#%%\n"
    }
   }
  },
  {
   "cell_type": "markdown",
   "source": [
    "# Fuzzy match against ground truth"
   ],
   "metadata": {
    "collapsed": false,
    "pycharm": {
     "name": "#%% md\n"
    }
   }
  },
  {
   "cell_type": "code",
   "execution_count": null,
   "outputs": [],
   "source": [
    "gt = [\"accept request\", \"add educational skills\", \"add friend to list\", \"add languages, add gender, add interests\", \"attach text file\", \"change personal settings\", \"chat\", \"check password\", \"comment on scribble\", \"create account\", \"delete comment\", \"delete profile\", \"dislike scribble\", \"display friends\", \"enter account details\", \"enter scribble\", \"erase scribbles\", \"forward chat message\", \"give friend suggestion\", \"give priviledges to account\", \"invite friend\", \"like scribble\", \"lock account\", \"login\", \"notify wrong password\", \"receive chat\", \"receive request\", \"register details\", \"reject request\", \"remove friend\", \"resend verification link\", \"reset password\", \"search for friend\", \"see chat history\", \"see likes count\", \"see online friends\", \"see other profile\", \"see scribbles\", \"send friend request\", \"send verification link\", \"set public private\", \"show captcha\", \"store chats\", \"unfriend\", \"unlock account\", \"upload profile picture\", \"validate user info\", \"verify account\", \"view profile of friend\"]\n",
    "print(f\"Ground truth: {len(gt)}\")"
   ],
   "metadata": {
    "collapsed": false,
    "pycharm": {
     "name": "#%%\n"
    }
   }
  },
  {
   "cell_type": "code",
   "execution_count": null,
   "outputs": [],
   "source": [
    "from llama_index.core.schema import TextNode\n",
    "from llama_index.core import VectorStoreIndex\n",
    "\n",
    "nodes = []\n",
    "results = []\n",
    "for actual in gt:\n",
    "    nodes.append(TextNode(text=actual))\n",
    "\n",
    "fuzzy_match_index = VectorStoreIndex(nodes=nodes)\n",
    "\n",
    "fuzzy_match_retriever = fuzzy_match_index.as_retriever(similarity_top_k=10, choice_batch_size=1)\n",
    "\n",
    "def get_best_match(sample, threshold=0.8):\n",
    "    for node in nodes:\n",
    "        if node.text.lower() == sample.lower():\n",
    "            return node.text\n",
    "\n",
    "    results = fuzzy_match_retriever.retrieve(f\"find {sample}\")\n",
    "    for result in results:\n",
    "        similarity_score = result.score\n",
    "        if similarity_score >= threshold:\n",
    "            return result.node.text\n",
    "\n",
    "    return results[0].node.text if results else None\n",
    "\n",
    "for responsibility in responsibilities:\n",
    "    best_match = get_best_match(responsibility, threshold=0.8)\n",
    "    print(f\"{responsibility} : {best_match}\")\n",
    "    print()\n",
    "    results.append({'responsibility': responsibility, 'gt_match': best_match})"
   ],
   "metadata": {
    "collapsed": false,
    "pycharm": {
     "name": "#%%\n"
    }
   }
  },
  {
   "cell_type": "markdown",
   "source": [
    "# Alternative retriever strategy"
   ],
   "metadata": {
    "collapsed": false,
    "pycharm": {
     "name": "#%% md\n"
    }
   }
  },
  {
   "cell_type": "code",
   "execution_count": null,
   "outputs": [],
   "source": [
    "from llama_index.retrievers.bm25 import BM25Retriever\n",
    "import Stemmer\n",
    "\n",
    "\n",
    "bm25_retriever = BM25Retriever.from_defaults(\n",
    "    nodes=nodes,\n",
    "    similarity_top_k=1,\n",
    "    stemmer=Stemmer.Stemmer(\"english\"),\n",
    "    language=\"english\",\n",
    ")\n",
    "\n",
    "for sample in responsibilities:\n",
    "    results = bm25_retriever.retrieve(f\"find {sample}\")\n",
    "    print(sample,':', results[0].node.text)\n",
    "    print()"
   ],
   "metadata": {
    "collapsed": false,
    "pycharm": {
     "name": "#%%\n"
    }
   }
  },
  {
   "cell_type": "markdown",
   "source": [
    "# Save results"
   ],
   "metadata": {
    "collapsed": false,
    "pycharm": {
     "name": "#%% md\n"
    }
   }
  },
  {
   "cell_type": "code",
   "execution_count": null,
   "outputs": [],
   "source": [
    "from llama_index.retrievers.bm25 import BM25Retriever\n",
    "import Stemmer\n",
    "\n",
    "\n",
    "bm25_retriever = BM25Retriever.from_defaults(\n",
    "    nodes=nodes,\n",
    "    similarity_top_k=1,\n",
    "    stemmer=Stemmer.Stemmer(\"english\"),\n",
    "    language=\"english\",\n",
    ")\n",
    "\n",
    "for sample in responsibilities:\n",
    "    results = bm25_retriever.retrieve(f\"find {sample}\")\n",
    "    print(sample,':', results[0].node.text)\n",
    "    print()"
   ],
   "metadata": {
    "collapsed": false,
    "pycharm": {
     "name": "#%%\n"
    }
   }
  },
  {
   "cell_type": "markdown",
   "source": [
    "# Save results"
   ],
   "metadata": {
    "collapsed": false,
    "pycharm": {
     "name": "#%% md\n"
    }
   }
  },
  {
   "cell_type": "code",
   "execution_count": null,
   "outputs": [],
   "source": [
    "import pandas as pd\n",
    "\n",
    "pd.DataFrame(results).to_csv(f\"{KG_FOLDER}/results.csv\")\n"
   ],
   "metadata": {
    "collapsed": false,
    "pycharm": {
     "name": "#%%\n"
    }
   }
  },
  {
   "cell_type": "code",
   "execution_count": null,
   "outputs": [],
   "source": [
    "responsibilities = [x.lower() for x in [ \"Chats with Online friends\", \"Invites Friend to join aloha\", \"Gets Friend suggestions\", \"Unfriends Friend\", \"Searches Friends\", \"Searches Friends on aloha\", \"Resets Password\", \"Clicks Unlock link\", \"Clicks Verification link\", \"Retrieves Chitchat history\", \"Stores Chitchat on exit\", \"Sends Message to Intended user\", \"Receives Chitchat from User in friend list\", \"Initiates Chitchat with User in friend list\", \"Logs in to edit account details\", \"Logs in to add account details\", \"Logs in to add personal details\", \"Logs in to add educational details\", \"Has Verified account to add personal details\", \"Has Verified account to add educational details\", \"Has Option to Accept or ignore friend request\", \"Makes Personal information public or private\", \"Makes Account details public or private\", \"Must be 18 years old or more\", \"Has Options to Change personal settings\", \"Has Options to Search people\", \"Has Options to Logout\", \"Dislikes Scribble\", \"Comments on Scribble\", \"Erases Scribble\", \"Deletes Comment\", \"Deletes Account\", \"Retrieves Chitchat\", \"Stores Chitchat\", \"Receives Chitchat\", \"Sends Text files\", \"Sends Message\", \"Deletes Scribble\", \"Sees Count of liked scribble\", \"Sees Count of disliked scribble\", \"Sees Delete link\", \"Ignores Friend request\", \"Accepts Friend request\", \"Makes Personal information public\", \"Makes Personal information private\", \"Makes Account details public\", \"Makes Account details private\", \"Uploads Profile picture\", \"Edits Account details\", \"Adds Account details\", \"Adds Personal details\", \"Adds Educational details\", \"Logs in with Email-id and password\", \"Creates Account\", \"Create Account\", \"Login\", \"Initiate Chitchat\", \"View Friends\", \"Send Friend Request\", \"Accept Friend Request\", \"Ignore Friend Request\", \"Delete Friend Request\", \"Upload Profile Picture\", \"Edit Account Details\", \"Add Account Details\", \"Add Personal Details\", \"Add Educational Details\", \"Make Personal Information Public\", \"Make Personal Information Private\", \"Make Account Details Public\", \"Make Account Details Private\", \"Like Scribble\", \"Dislike Scribble\", \"Share Scribble\", \"View Online Friends\", \"Receive Friend Request\", \"Receive Chitchat\", \"Receive Verification Link\", \"Receive Unlock Link\", \"Receive Captcha\" ]]\n",
    "print(f\"Extracted responsibilities: {len(responsibilities)}\")"
   ],
   "metadata": {
    "collapsed": false,
    "pycharm": {
     "name": "#%%\n"
    }
   }
  },
  {
   "cell_type": "markdown",
   "source": [
    "# Fuzzy match against ground truth"
   ],
   "metadata": {
    "collapsed": false,
    "pycharm": {
     "name": "#%% md\n"
    }
   }
  },
  {
   "cell_type": "code",
   "execution_count": null,
   "outputs": [],
   "source": [
    "gt = [\"accept request\", \"add educational skills\", \"add friend to list\", \"add languages, add gender, add interests\", \"attach text file\", \"change personal settings\", \"chat\", \"check password\", \"comment on scribble\", \"create account\", \"delete comment\", \"delete profile\", \"dislike scribble\", \"display friends\", \"enter account details\", \"enter scribble\", \"erase scribbles\", \"forward chat message\", \"give friend suggestion\", \"give priviledges to account\", \"invite friend\", \"like scribble\", \"lock account\", \"login\", \"notify wrong password\", \"receive chat\", \"receive request\", \"register details\", \"reject request\", \"remove friend\", \"resend verification link\", \"reset password\", \"search for friend\", \"see chat history\", \"see likes count\", \"see online friends\", \"see other profile\", \"see scribbles\", \"send friend request\", \"send verification link\", \"set public private\", \"show captcha\", \"store chats\", \"unfriend\", \"unlock account\", \"upload profile picture\", \"validate user info\", \"verify account\", \"view profile of friend\"]\n",
    "print(f\"Ground truth: {len(gt)}\")"
   ],
   "metadata": {
    "collapsed": false,
    "pycharm": {
     "name": "#%%\n"
    }
   }
  },
  {
   "cell_type": "code",
   "execution_count": null,
   "outputs": [],
   "source": [
    "from llama_index.core.schema import TextNode\n",
    "from llama_index.core import VectorStoreIndex\n",
    "\n",
    "nodes = []\n",
    "results = []\n",
    "for actual in gt:\n",
    "    nodes.append(TextNode(text=actual))\n",
    "\n",
    "fuzzy_match_index = VectorStoreIndex(nodes=nodes)\n",
    "\n",
    "fuzzy_match_retriever = fuzzy_match_index.as_retriever(similarity_top_k=10, choice_batch_size=1)\n",
    "\n",
    "def get_best_match(sample, threshold=0.8):\n",
    "    for node in nodes:\n",
    "        if node.text.lower() == sample.lower():\n",
    "            return node.text\n",
    "    \n",
    "    results = fuzzy_match_retriever.retrieve(f\"find {sample}\")\n",
    "    for result in results:\n",
    "        similarity_score = result.score\n",
    "        if similarity_score >= threshold:\n",
    "            return result.node.text\n",
    "    \n",
    "    return results[0].node.text if results else None\n",
    "\n",
    "for responsibility in responsibilities:\n",
    "    best_match = get_best_match(responsibility, threshold=0.8)\n",
    "    print(f\"{responsibility} : {best_match}\")\n",
    "    print()\n",
    "    results.append({'responsibility': responsibility, 'gt_match': best_match})"
   ],
   "metadata": {
    "collapsed": false,
    "pycharm": {
     "name": "#%%\n"
    }
   }
  },
  {
   "cell_type": "markdown",
   "source": [
    "# Alternative retriever strategy"
   ],
   "metadata": {
    "collapsed": false,
    "pycharm": {
     "name": "#%% md\n"
    }
   }
  },
  {
   "cell_type": "code",
   "execution_count": null,
   "outputs": [],
   "source": [
    "from llama_index.retrievers.bm25 import BM25Retriever\n",
    "import Stemmer\n",
    "\n",
    "\n",
    "bm25_retriever = BM25Retriever.from_defaults(\n",
    "    nodes=nodes,\n",
    "    similarity_top_k=1,\n",
    "    stemmer=Stemmer.Stemmer(\"english\"),\n",
    "    language=\"english\",\n",
    ")\n",
    "\n",
    "for sample in responsibilities:\n",
    "    results = bm25_retriever.retrieve(f\"find {sample}\")\n",
    "    print(sample,':', results[0].node.text)\n",
    "    print()"
   ],
   "metadata": {
    "collapsed": false,
    "pycharm": {
     "name": "#%%\n"
    }
   }
  },
  {
   "cell_type": "markdown",
   "source": [
    "# Save results"
   ],
   "metadata": {
    "collapsed": false,
    "pycharm": {
     "name": "#%% md\n"
    }
   }
  },
  {
   "cell_type": "code",
   "execution_count": null,
   "metadata": {
    "pycharm": {
     "name": "#%%\n"
    }
   },
   "outputs": [],
   "source": [
    "from llama_index.retrievers.bm25 import BM25Retriever\n",
    "import Stemmer\n",
    "\n",
    "\n",
    "bm25_retriever = BM25Retriever.from_defaults(\n",
    "    nodes=nodes,\n",
    "    similarity_top_k=1,\n",
    "    stemmer=Stemmer.Stemmer(\"english\"),\n",
    "    language=\"english\",\n",
    ")\n",
    "\n",
    "for sample in responsibilities:\n",
    "    results = bm25_retriever.retrieve(f\"find {sample}\")\n",
    "    print(sample,':', results[0].node.text)\n",
    "    print()"
   ]
  },
  {
   "cell_type": "markdown",
   "metadata": {
    "pycharm": {
     "name": "#%% md\n"
    }
   },
   "source": [
    "# Save results"
   ]
  },
  {
   "cell_type": "code",
   "execution_count": null,
   "metadata": {
    "pycharm": {
     "name": "#%%\n"
    }
   },
   "outputs": [],
   "source": [
    "import pandas as pd\n",
    "\n",
    "pd.DataFrame(results).to_csv(f\"{KG_FOLDER}/results.csv\")"
   ]
  }
 ],
 "metadata": {
  "kernelspec": {
   "display_name": "Python 3 (ipykernel)",
   "language": "python",
   "name": "python3"
  },
  "language_info": {
   "codemirror_mode": {
    "name": "ipython",
    "version": 3
   },
   "file_extension": ".py",
   "mimetype": "text/x-python",
   "name": "python",
   "nbconvert_exporter": "python",
   "pygments_lexer": "ipython3",
   "version": "3.11.6"
  }
 },
 "nbformat": 4,
 "nbformat_minor": 4
}